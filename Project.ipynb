{
 "cells": [
  {
   "cell_type": "code",
   "execution_count": 1,
   "id": "b4477eea-4b35-452d-9326-8c3e0429f57e",
   "metadata": {},
   "outputs": [],
   "source": [
    "#Import\n",
    "import pandas as pd\n",
    "import numpy as np\n",
    "import matplotlib.pyplot as plt\n",
    "import seaborn as sns\n",
    "from sklearn.preprocessing import StandardScaler\n",
    "from sklearn.model_selection import train_test_split\n",
    "from sklearn.metrics import confusion_matrix, accuracy_score, precision_score, recall_score, f1_score\n",
    "from sklearn.linear_model import LogisticRegression\n",
    "from sklearn.tree import DecisionTreeClassifier\n",
    "from sklearn.preprocessing import LabelEncoder\n",
    "from imblearn.over_sampling import SMOTE\n",
    "from sklearn.model_selection import GridSearchCV"
   ]
  },
  {
   "cell_type": "markdown",
   "id": "46ee3665-47d7-450f-b35d-94053ac87310",
   "metadata": {},
   "source": [
    "**Data Preprocessing**"
   ]
  },
  {
   "cell_type": "code",
   "execution_count": 12,
   "id": "9b618279-8676-4e45-91ff-10ad18cbd076",
   "metadata": {
    "scrolled": true
   },
   "outputs": [
    {
     "name": "stdout",
     "output_type": "stream",
     "text": [
      "(10000, 11)\n"
     ]
    },
    {
     "data": {
      "text/html": [
       "<div>\n",
       "<style scoped>\n",
       "    .dataframe tbody tr th:only-of-type {\n",
       "        vertical-align: middle;\n",
       "    }\n",
       "\n",
       "    .dataframe tbody tr th {\n",
       "        vertical-align: top;\n",
       "    }\n",
       "\n",
       "    .dataframe thead th {\n",
       "        text-align: right;\n",
       "    }\n",
       "</style>\n",
       "<table border=\"1\" class=\"dataframe\">\n",
       "  <thead>\n",
       "    <tr style=\"text-align: right;\">\n",
       "      <th></th>\n",
       "      <th>Age</th>\n",
       "      <th>Gender</th>\n",
       "      <th>Income</th>\n",
       "      <th>Location</th>\n",
       "      <th>Ad Type</th>\n",
       "      <th>Ad Topic</th>\n",
       "      <th>Ad Placement</th>\n",
       "      <th>Clicks</th>\n",
       "      <th>Click Time</th>\n",
       "      <th>Conversion Rate</th>\n",
       "      <th>CTR</th>\n",
       "    </tr>\n",
       "  </thead>\n",
       "  <tbody>\n",
       "    <tr>\n",
       "      <th>0</th>\n",
       "      <td>61</td>\n",
       "      <td>Male</td>\n",
       "      <td>35717.43</td>\n",
       "      <td>Urban</td>\n",
       "      <td>Banner</td>\n",
       "      <td>Travel</td>\n",
       "      <td>Social Media</td>\n",
       "      <td>3</td>\n",
       "      <td>2024-01-18 20:45:56.898459</td>\n",
       "      <td>0.0981</td>\n",
       "      <td>0.0737</td>\n",
       "    </tr>\n",
       "    <tr>\n",
       "      <th>1</th>\n",
       "      <td>41</td>\n",
       "      <td>Male</td>\n",
       "      <td>47453.25</td>\n",
       "      <td>Rural</td>\n",
       "      <td>Video</td>\n",
       "      <td>Travel</td>\n",
       "      <td>Search Engine</td>\n",
       "      <td>5</td>\n",
       "      <td>2023-04-24 20:45:56.898459</td>\n",
       "      <td>0.0937</td>\n",
       "      <td>0.0592</td>\n",
       "    </tr>\n",
       "    <tr>\n",
       "      <th>2</th>\n",
       "      <td>49</td>\n",
       "      <td>Female</td>\n",
       "      <td>68126.35</td>\n",
       "      <td>Rural</td>\n",
       "      <td>Text</td>\n",
       "      <td>Food</td>\n",
       "      <td>Social Media</td>\n",
       "      <td>4</td>\n",
       "      <td>2024-02-24 20:45:56.898459</td>\n",
       "      <td>0.1912</td>\n",
       "      <td>0.0563</td>\n",
       "    </tr>\n",
       "    <tr>\n",
       "      <th>3</th>\n",
       "      <td>68</td>\n",
       "      <td>Female</td>\n",
       "      <td>64585.73</td>\n",
       "      <td>Suburban</td>\n",
       "      <td>Text</td>\n",
       "      <td>Health</td>\n",
       "      <td>Website</td>\n",
       "      <td>6</td>\n",
       "      <td>2023-12-13 20:45:56.898459</td>\n",
       "      <td>0.1122</td>\n",
       "      <td>0.0232</td>\n",
       "    </tr>\n",
       "    <tr>\n",
       "      <th>4</th>\n",
       "      <td>63</td>\n",
       "      <td>Male</td>\n",
       "      <td>21109.40</td>\n",
       "      <td>Urban</td>\n",
       "      <td>Native</td>\n",
       "      <td>Fashion</td>\n",
       "      <td>Search Engine</td>\n",
       "      <td>5</td>\n",
       "      <td>2023-07-02 20:45:56.898459</td>\n",
       "      <td>0.1426</td>\n",
       "      <td>0.0539</td>\n",
       "    </tr>\n",
       "  </tbody>\n",
       "</table>\n",
       "</div>"
      ],
      "text/plain": [
       "   Age  Gender    Income  Location Ad Type Ad Topic   Ad Placement  Clicks  \\\n",
       "0   61    Male  35717.43     Urban  Banner   Travel   Social Media       3   \n",
       "1   41    Male  47453.25     Rural   Video   Travel  Search Engine       5   \n",
       "2   49  Female  68126.35     Rural    Text     Food   Social Media       4   \n",
       "3   68  Female  64585.73  Suburban    Text   Health        Website       6   \n",
       "4   63    Male  21109.40     Urban  Native  Fashion  Search Engine       5   \n",
       "\n",
       "                   Click Time  Conversion Rate     CTR  \n",
       "0  2024-01-18 20:45:56.898459           0.0981  0.0737  \n",
       "1  2023-04-24 20:45:56.898459           0.0937  0.0592  \n",
       "2  2024-02-24 20:45:56.898459           0.1912  0.0563  \n",
       "3  2023-12-13 20:45:56.898459           0.1122  0.0232  \n",
       "4  2023-07-02 20:45:56.898459           0.1426  0.0539  "
      ]
     },
     "execution_count": 12,
     "metadata": {},
     "output_type": "execute_result"
    }
   ],
   "source": [
    "#Open Dataset\n",
    "ad_data = pd.read_csv('ad_click_dataset_2.csv')\n",
    "print(ad_data.dropna().shape)\n",
    "ad_data.head()"
   ]
  },
  {
   "cell_type": "code",
   "execution_count": null,
   "id": "8559db56-c63e-4042-9c7d-08c8e70f8a25",
   "metadata": {},
   "outputs": [],
   "source": []
  },
  {
   "cell_type": "code",
   "execution_count": null,
   "id": "2f0e70f9-d0b9-4400-ad13-d150c3adcf3a",
   "metadata": {},
   "outputs": [],
   "source": []
  },
  {
   "cell_type": "code",
   "execution_count": null,
   "id": "2691f51a-b0a9-4ada-87ff-83dbd2cc83ca",
   "metadata": {},
   "outputs": [],
   "source": []
  },
  {
   "cell_type": "code",
   "execution_count": null,
   "id": "76611d9a-107f-4f8c-9a96-df298ae18a3f",
   "metadata": {},
   "outputs": [],
   "source": []
  },
  {
   "cell_type": "code",
   "execution_count": null,
   "id": "4cb76827-2c49-4bbe-9832-5cf1b4d97f21",
   "metadata": {},
   "outputs": [],
   "source": []
  },
  {
   "cell_type": "markdown",
   "id": "f02caaf3-fbdd-4740-a639-68a435f3afb5",
   "metadata": {},
   "source": [
    "**Test Implementation of Sklearn Classifiers to check dataset viability - DELETE LATER**\n"
   ]
  },
  {
   "cell_type": "code",
   "execution_count": null,
   "id": "75d86c29-a943-4145-877d-93d0f3513f37",
   "metadata": {},
   "outputs": [],
   "source": [
    "\n",
    "\n",
    "\n",
    "\n"
   ]
  },
  {
   "cell_type": "code",
   "execution_count": null,
   "id": "f34d02d9-01fd-462c-bec0-f661c285f368",
   "metadata": {},
   "outputs": [],
   "source": []
  },
  {
   "cell_type": "code",
   "execution_count": null,
   "id": "d2b9184d-3394-4e43-a2a5-3d09e9883ec1",
   "metadata": {},
   "outputs": [],
   "source": []
  },
  {
   "cell_type": "code",
   "execution_count": null,
   "id": "b86f3907-c0d6-44c6-a01e-b669c5d192db",
   "metadata": {},
   "outputs": [],
   "source": []
  },
  {
   "cell_type": "code",
   "execution_count": null,
   "id": "b4cdb700-5dd2-4ae7-8e76-a594127dd1bd",
   "metadata": {},
   "outputs": [],
   "source": []
  }
 ],
 "metadata": {
  "kernelspec": {
   "display_name": "Python 3 (ipykernel)",
   "language": "python",
   "name": "python3"
  },
  "language_info": {
   "codemirror_mode": {
    "name": "ipython",
    "version": 3
   },
   "file_extension": ".py",
   "mimetype": "text/x-python",
   "name": "python",
   "nbconvert_exporter": "python",
   "pygments_lexer": "ipython3",
   "version": "3.12.4"
  }
 },
 "nbformat": 4,
 "nbformat_minor": 5
}
