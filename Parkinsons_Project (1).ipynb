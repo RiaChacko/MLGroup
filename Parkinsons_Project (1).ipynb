{
 "cells": [
  {
   "cell_type": "code",
   "execution_count": 1,
   "id": "2ec2a8e4-e6a7-4ab2-a3e7-b00c822d291c",
   "metadata": {},
   "outputs": [],
   "source": [
    "# Imports\n",
    "import pandas as pd\n",
    "import numpy as np\n",
    "import matplotlib.pyplot as plt\n",
    "import seaborn as sns\n",
    "\n",
    "from imblearn.over_sampling import SMOTE\n",
    "from sklearn.model_selection import train_test_split, GridSearchCV\n",
    "from sklearn.preprocessing import StandardScaler\n",
    "from sklearn.linear_model import LogisticRegression\n",
    "from sklearn.svm import SVC\n",
    "from sklearn.feature_selection import RFE\n",
    "from sklearn.feature_selection import SequentialFeatureSelector\n",
    "from sklearn.metrics import confusion_matrix, accuracy_score, precision_score, recall_score, f1_score"
   ]
  },
  {
   "cell_type": "markdown",
   "id": "a866e214-882d-477e-b2e3-e4fb9119074d",
   "metadata": {},
   "source": [
    "**Data Preprocessing Part 1**"
   ]
  },
  {
   "cell_type": "code",
   "execution_count": 3,
   "id": "d9ce9f84-ff93-4c3b-9ff0-eb6bca144bd4",
   "metadata": {},
   "outputs": [
    {
     "ename": "FileNotFoundError",
     "evalue": "[Errno 2] No such file or directory: 'parkinsons_disease_data.csv'",
     "output_type": "error",
     "traceback": [
      "\u001b[1;31m---------------------------------------------------------------------------\u001b[0m",
      "\u001b[1;31mFileNotFoundError\u001b[0m                         Traceback (most recent call last)",
      "Cell \u001b[1;32mIn[3], line 2\u001b[0m\n\u001b[0;32m      1\u001b[0m \u001b[38;5;66;03m#Open Dataset\u001b[39;00m\n\u001b[1;32m----> 2\u001b[0m parkinsons_data \u001b[38;5;241m=\u001b[39m pd\u001b[38;5;241m.\u001b[39mread_csv(\u001b[38;5;124m'\u001b[39m\u001b[38;5;124mparkinsons_disease_data.csv\u001b[39m\u001b[38;5;124m'\u001b[39m)\n\u001b[0;32m      3\u001b[0m \u001b[38;5;28mprint\u001b[39m(parkinsons_data\u001b[38;5;241m.\u001b[39mshape)\n\u001b[0;32m      4\u001b[0m parkinsons_data\u001b[38;5;241m.\u001b[39mhead()\n",
      "File \u001b[1;32m~\\anaconda3\\Lib\\site-packages\\pandas\\io\\parsers\\readers.py:1026\u001b[0m, in \u001b[0;36mread_csv\u001b[1;34m(filepath_or_buffer, sep, delimiter, header, names, index_col, usecols, dtype, engine, converters, true_values, false_values, skipinitialspace, skiprows, skipfooter, nrows, na_values, keep_default_na, na_filter, verbose, skip_blank_lines, parse_dates, infer_datetime_format, keep_date_col, date_parser, date_format, dayfirst, cache_dates, iterator, chunksize, compression, thousands, decimal, lineterminator, quotechar, quoting, doublequote, escapechar, comment, encoding, encoding_errors, dialect, on_bad_lines, delim_whitespace, low_memory, memory_map, float_precision, storage_options, dtype_backend)\u001b[0m\n\u001b[0;32m   1013\u001b[0m kwds_defaults \u001b[38;5;241m=\u001b[39m _refine_defaults_read(\n\u001b[0;32m   1014\u001b[0m     dialect,\n\u001b[0;32m   1015\u001b[0m     delimiter,\n\u001b[1;32m   (...)\u001b[0m\n\u001b[0;32m   1022\u001b[0m     dtype_backend\u001b[38;5;241m=\u001b[39mdtype_backend,\n\u001b[0;32m   1023\u001b[0m )\n\u001b[0;32m   1024\u001b[0m kwds\u001b[38;5;241m.\u001b[39mupdate(kwds_defaults)\n\u001b[1;32m-> 1026\u001b[0m \u001b[38;5;28;01mreturn\u001b[39;00m _read(filepath_or_buffer, kwds)\n",
      "File \u001b[1;32m~\\anaconda3\\Lib\\site-packages\\pandas\\io\\parsers\\readers.py:620\u001b[0m, in \u001b[0;36m_read\u001b[1;34m(filepath_or_buffer, kwds)\u001b[0m\n\u001b[0;32m    617\u001b[0m _validate_names(kwds\u001b[38;5;241m.\u001b[39mget(\u001b[38;5;124m\"\u001b[39m\u001b[38;5;124mnames\u001b[39m\u001b[38;5;124m\"\u001b[39m, \u001b[38;5;28;01mNone\u001b[39;00m))\n\u001b[0;32m    619\u001b[0m \u001b[38;5;66;03m# Create the parser.\u001b[39;00m\n\u001b[1;32m--> 620\u001b[0m parser \u001b[38;5;241m=\u001b[39m TextFileReader(filepath_or_buffer, \u001b[38;5;241m*\u001b[39m\u001b[38;5;241m*\u001b[39mkwds)\n\u001b[0;32m    622\u001b[0m \u001b[38;5;28;01mif\u001b[39;00m chunksize \u001b[38;5;129;01mor\u001b[39;00m iterator:\n\u001b[0;32m    623\u001b[0m     \u001b[38;5;28;01mreturn\u001b[39;00m parser\n",
      "File \u001b[1;32m~\\anaconda3\\Lib\\site-packages\\pandas\\io\\parsers\\readers.py:1620\u001b[0m, in \u001b[0;36mTextFileReader.__init__\u001b[1;34m(self, f, engine, **kwds)\u001b[0m\n\u001b[0;32m   1617\u001b[0m     \u001b[38;5;28mself\u001b[39m\u001b[38;5;241m.\u001b[39moptions[\u001b[38;5;124m\"\u001b[39m\u001b[38;5;124mhas_index_names\u001b[39m\u001b[38;5;124m\"\u001b[39m] \u001b[38;5;241m=\u001b[39m kwds[\u001b[38;5;124m\"\u001b[39m\u001b[38;5;124mhas_index_names\u001b[39m\u001b[38;5;124m\"\u001b[39m]\n\u001b[0;32m   1619\u001b[0m \u001b[38;5;28mself\u001b[39m\u001b[38;5;241m.\u001b[39mhandles: IOHandles \u001b[38;5;241m|\u001b[39m \u001b[38;5;28;01mNone\u001b[39;00m \u001b[38;5;241m=\u001b[39m \u001b[38;5;28;01mNone\u001b[39;00m\n\u001b[1;32m-> 1620\u001b[0m \u001b[38;5;28mself\u001b[39m\u001b[38;5;241m.\u001b[39m_engine \u001b[38;5;241m=\u001b[39m \u001b[38;5;28mself\u001b[39m\u001b[38;5;241m.\u001b[39m_make_engine(f, \u001b[38;5;28mself\u001b[39m\u001b[38;5;241m.\u001b[39mengine)\n",
      "File \u001b[1;32m~\\anaconda3\\Lib\\site-packages\\pandas\\io\\parsers\\readers.py:1880\u001b[0m, in \u001b[0;36mTextFileReader._make_engine\u001b[1;34m(self, f, engine)\u001b[0m\n\u001b[0;32m   1878\u001b[0m     \u001b[38;5;28;01mif\u001b[39;00m \u001b[38;5;124m\"\u001b[39m\u001b[38;5;124mb\u001b[39m\u001b[38;5;124m\"\u001b[39m \u001b[38;5;129;01mnot\u001b[39;00m \u001b[38;5;129;01min\u001b[39;00m mode:\n\u001b[0;32m   1879\u001b[0m         mode \u001b[38;5;241m+\u001b[39m\u001b[38;5;241m=\u001b[39m \u001b[38;5;124m\"\u001b[39m\u001b[38;5;124mb\u001b[39m\u001b[38;5;124m\"\u001b[39m\n\u001b[1;32m-> 1880\u001b[0m \u001b[38;5;28mself\u001b[39m\u001b[38;5;241m.\u001b[39mhandles \u001b[38;5;241m=\u001b[39m get_handle(\n\u001b[0;32m   1881\u001b[0m     f,\n\u001b[0;32m   1882\u001b[0m     mode,\n\u001b[0;32m   1883\u001b[0m     encoding\u001b[38;5;241m=\u001b[39m\u001b[38;5;28mself\u001b[39m\u001b[38;5;241m.\u001b[39moptions\u001b[38;5;241m.\u001b[39mget(\u001b[38;5;124m\"\u001b[39m\u001b[38;5;124mencoding\u001b[39m\u001b[38;5;124m\"\u001b[39m, \u001b[38;5;28;01mNone\u001b[39;00m),\n\u001b[0;32m   1884\u001b[0m     compression\u001b[38;5;241m=\u001b[39m\u001b[38;5;28mself\u001b[39m\u001b[38;5;241m.\u001b[39moptions\u001b[38;5;241m.\u001b[39mget(\u001b[38;5;124m\"\u001b[39m\u001b[38;5;124mcompression\u001b[39m\u001b[38;5;124m\"\u001b[39m, \u001b[38;5;28;01mNone\u001b[39;00m),\n\u001b[0;32m   1885\u001b[0m     memory_map\u001b[38;5;241m=\u001b[39m\u001b[38;5;28mself\u001b[39m\u001b[38;5;241m.\u001b[39moptions\u001b[38;5;241m.\u001b[39mget(\u001b[38;5;124m\"\u001b[39m\u001b[38;5;124mmemory_map\u001b[39m\u001b[38;5;124m\"\u001b[39m, \u001b[38;5;28;01mFalse\u001b[39;00m),\n\u001b[0;32m   1886\u001b[0m     is_text\u001b[38;5;241m=\u001b[39mis_text,\n\u001b[0;32m   1887\u001b[0m     errors\u001b[38;5;241m=\u001b[39m\u001b[38;5;28mself\u001b[39m\u001b[38;5;241m.\u001b[39moptions\u001b[38;5;241m.\u001b[39mget(\u001b[38;5;124m\"\u001b[39m\u001b[38;5;124mencoding_errors\u001b[39m\u001b[38;5;124m\"\u001b[39m, \u001b[38;5;124m\"\u001b[39m\u001b[38;5;124mstrict\u001b[39m\u001b[38;5;124m\"\u001b[39m),\n\u001b[0;32m   1888\u001b[0m     storage_options\u001b[38;5;241m=\u001b[39m\u001b[38;5;28mself\u001b[39m\u001b[38;5;241m.\u001b[39moptions\u001b[38;5;241m.\u001b[39mget(\u001b[38;5;124m\"\u001b[39m\u001b[38;5;124mstorage_options\u001b[39m\u001b[38;5;124m\"\u001b[39m, \u001b[38;5;28;01mNone\u001b[39;00m),\n\u001b[0;32m   1889\u001b[0m )\n\u001b[0;32m   1890\u001b[0m \u001b[38;5;28;01massert\u001b[39;00m \u001b[38;5;28mself\u001b[39m\u001b[38;5;241m.\u001b[39mhandles \u001b[38;5;129;01mis\u001b[39;00m \u001b[38;5;129;01mnot\u001b[39;00m \u001b[38;5;28;01mNone\u001b[39;00m\n\u001b[0;32m   1891\u001b[0m f \u001b[38;5;241m=\u001b[39m \u001b[38;5;28mself\u001b[39m\u001b[38;5;241m.\u001b[39mhandles\u001b[38;5;241m.\u001b[39mhandle\n",
      "File \u001b[1;32m~\\anaconda3\\Lib\\site-packages\\pandas\\io\\common.py:873\u001b[0m, in \u001b[0;36mget_handle\u001b[1;34m(path_or_buf, mode, encoding, compression, memory_map, is_text, errors, storage_options)\u001b[0m\n\u001b[0;32m    868\u001b[0m \u001b[38;5;28;01melif\u001b[39;00m \u001b[38;5;28misinstance\u001b[39m(handle, \u001b[38;5;28mstr\u001b[39m):\n\u001b[0;32m    869\u001b[0m     \u001b[38;5;66;03m# Check whether the filename is to be opened in binary mode.\u001b[39;00m\n\u001b[0;32m    870\u001b[0m     \u001b[38;5;66;03m# Binary mode does not support 'encoding' and 'newline'.\u001b[39;00m\n\u001b[0;32m    871\u001b[0m     \u001b[38;5;28;01mif\u001b[39;00m ioargs\u001b[38;5;241m.\u001b[39mencoding \u001b[38;5;129;01mand\u001b[39;00m \u001b[38;5;124m\"\u001b[39m\u001b[38;5;124mb\u001b[39m\u001b[38;5;124m\"\u001b[39m \u001b[38;5;129;01mnot\u001b[39;00m \u001b[38;5;129;01min\u001b[39;00m ioargs\u001b[38;5;241m.\u001b[39mmode:\n\u001b[0;32m    872\u001b[0m         \u001b[38;5;66;03m# Encoding\u001b[39;00m\n\u001b[1;32m--> 873\u001b[0m         handle \u001b[38;5;241m=\u001b[39m \u001b[38;5;28mopen\u001b[39m(\n\u001b[0;32m    874\u001b[0m             handle,\n\u001b[0;32m    875\u001b[0m             ioargs\u001b[38;5;241m.\u001b[39mmode,\n\u001b[0;32m    876\u001b[0m             encoding\u001b[38;5;241m=\u001b[39mioargs\u001b[38;5;241m.\u001b[39mencoding,\n\u001b[0;32m    877\u001b[0m             errors\u001b[38;5;241m=\u001b[39merrors,\n\u001b[0;32m    878\u001b[0m             newline\u001b[38;5;241m=\u001b[39m\u001b[38;5;124m\"\u001b[39m\u001b[38;5;124m\"\u001b[39m,\n\u001b[0;32m    879\u001b[0m         )\n\u001b[0;32m    880\u001b[0m     \u001b[38;5;28;01melse\u001b[39;00m:\n\u001b[0;32m    881\u001b[0m         \u001b[38;5;66;03m# Binary mode\u001b[39;00m\n\u001b[0;32m    882\u001b[0m         handle \u001b[38;5;241m=\u001b[39m \u001b[38;5;28mopen\u001b[39m(handle, ioargs\u001b[38;5;241m.\u001b[39mmode)\n",
      "\u001b[1;31mFileNotFoundError\u001b[0m: [Errno 2] No such file or directory: 'parkinsons_disease_data.csv'"
     ]
    }
   ],
   "source": [
    "#Open Dataset\n",
    "parkinsons_data = pd.read_csv('parkinsons_disease_data.csv')\n",
    "print(parkinsons_data.shape)\n",
    "parkinsons_data.head()"
   ]
  },
  {
   "cell_type": "code",
   "execution_count": null,
   "id": "0271e48e-e966-4cb9-bf96-532c8fdeae66",
   "metadata": {},
   "outputs": [],
   "source": [
    "#Drop Irrelevant Features and Features That Already Identify Parkinsons (ie, UPDRS, MoCA, FunctionalAssessment)\n",
    "pk_irr = parkinsons_data.drop('PatientID',axis=1)\n",
    "pk_irr = pk_irr.drop('DoctorInCharge',axis=1)\n",
    "pk_irr = pk_irr.drop('UPDRS',axis=1)\n",
    "pk_irr = pk_irr.drop('MoCA',axis=1)\n",
    "pk_irr = pk_irr.drop('FunctionalAssessment',axis=1)\n",
    "# Print all column names to confirm the correct column names\n",
    "\n"
   ]
  },
  {
   "cell_type": "code",
   "execution_count": null,
   "id": "e879a959-accd-4518-bc6f-104d09096e73",
   "metadata": {},
   "outputs": [],
   "source": [
    "##########################Function for Anomaly Removal###########################\n",
    "def remove_anomalies(data, feature):\n",
    "    Q1 = data[feature].quantile(0.25)\n",
    "    Q3 = data[feature].quantile(0.75)\n",
    "    IQR = Q3 - Q1\n",
    "    LB = Q1 - (IQR*1.5)\n",
    "    UB = Q3 + (IQR*1.5)\n",
    "    return (data - data[(data[feature]< LB) | (data[feature] > UB)])\n",
    "###################################################################################"
   ]
  },
  {
   "cell_type": "code",
   "execution_count": null,
   "id": "f3d161e0-8a97-42a5-8b14-3231ebc198bc",
   "metadata": {},
   "outputs": [],
   "source": [
    "#Decouple Features and Target\n",
    "pk_features = pk_irr.drop('Diagnosis',axis=1)\n",
    "pk_target = pk_irr['Diagnosis']"
   ]
  },
  {
   "cell_type": "code",
   "execution_count": null,
   "id": "ab5440a9-39dc-42f2-855c-e9c4f32644bf",
   "metadata": {},
   "outputs": [],
   "source": [
    "#Apply SMOTE for class imbalance correction\n",
    "smote = SMOTE()\n",
    "pk_x_smote, pk_y_smote = smote.fit_resample(pk_features, pk_target)\n",
    "# print(pk_irr.columns)"
   ]
  },
  {
   "cell_type": "markdown",
   "id": "60b399f6-01d9-4c1e-8bcd-939795b1ee3e",
   "metadata": {},
   "source": [
    "**Data Visualization**"
   ]
  },
  {
   "cell_type": "code",
   "execution_count": null,
   "id": "45386c32-d427-4cbe-8957-ca1931cc847a",
   "metadata": {},
   "outputs": [],
   "source": [
    "#Custom Palette For Visualizations\n",
    "palette = {0: 'green', 1: 'red'}"
   ]
  },
  {
   "cell_type": "code",
   "execution_count": null,
   "id": "0023b6d2-5cd0-4961-bb71-47cae1ed958a",
   "metadata": {},
   "outputs": [],
   "source": [
    "#Visualize Correlation\n",
    "data_correlation = pk_features.corr()\n",
    "data_high_correlation = data_correlation[abs(data_correlation) >= 0.5]\n",
    "plt.matshow(data_correlation)\n",
    "plt.matshow(data_high_correlation)"
   ]
  },
  {
   "cell_type": "markdown",
   "id": "7444596f-ad11-4a7f-a195-b45c76c16ab4",
   "metadata": {},
   "source": [
    "The above heatmap shows that none of the features in this dataset have a correlation above the cutoff we chose, which was 0.5. Therefore, there was no need to remove any features on account of correlation."
   ]
  },
  {
   "cell_type": "code",
   "execution_count": null,
   "id": "2e291b4c-e119-4566-a83a-274f31e8abbd",
   "metadata": {},
   "outputs": [],
   "source": [
    "#Visualize Original Class Imbalance\n",
    "print(pk_irr['Diagnosis'].value_counts())\n",
    "plt.figure(figsize=(6, 6))\n",
    "sns.countplot(x='Diagnosis', data=pk_irr, hue='Diagnosis', palette=palette)\n",
    "plt.show()"
   ]
  },
  {
   "cell_type": "code",
   "execution_count": null,
   "id": "dbd1c4f7-551d-4712-905c-d0c8f870e2e3",
   "metadata": {},
   "outputs": [],
   "source": [
    "# Scatter plot Age vs BMI\n",
    "plt.figure(figsize=(8, 6))\n",
    "sns.scatterplot(x='Age', y='BMI', data=pk_irr, hue='Diagnosis', palette=palette)\n",
    "plt.title('Scatter Plot of Age vs BMI')\n",
    "plt.xlabel('Age')\n",
    "plt.ylabel('BMI')\n",
    "plt.show()\n",
    "\n",
    "# Scatter plot Smoking vs BMI\n",
    "plt.figure(figsize=(8, 6))\n",
    "sns.scatterplot(x='Smoking', y='BMI', data=pk_irr, hue='Diagnosis', palette=palette)\n",
    "plt.title('Scatter Plot of Smoking vs BMI')\n",
    "plt.xlabel('Smoking')\n",
    "plt.ylabel('BMI')\n",
    "plt.show()\n",
    "\n",
    "\n",
    "# Scatter plot Physical Activity vs BMI\n",
    "plt.figure(figsize=(8, 6))\n",
    "sns.scatterplot(x='PhysicalActivity', y='BMI', data=pk_irr, hue='Diagnosis', palette=palette)\n",
    "plt.title('Scatter Plot of Physical Activity vs BMI')\n",
    "plt.xlabel('Physical Activity')\n",
    "plt.ylabel('BMI')\n",
    "plt.show()\n",
    "\n",
    "# Scatter plot Alcohol Consumption vs Smoking\n",
    "plt.figure(figsize=(8, 6))\n",
    "sns.scatterplot(x='AlcoholConsumption', y='Smoking', data=pk_irr, hue='Diagnosis', palette=palette)\n",
    "plt.title('Scatter Plot of Alcohol Consumption vs Smoking')\n",
    "plt.xlabel('Alcohol Consumption')\n",
    "plt.ylabel('Smoking')\n",
    "plt.show()\n",
    "\n",
    "# Scatter plot Diet Quality vs Alcohol Consumption\n",
    "plt.figure(figsize=(8, 6))\n",
    "sns.scatterplot(x='DietQuality', y='AlcoholConsumption', data=pk_irr, hue='Diagnosis', palette=palette)\n",
    "plt.title('Scatter Plot of Diet Quality vs Alcohol Consumption')\n",
    "plt.xlabel('Diet Quality')\n",
    "plt.ylabel('Alcohol Consumption')\n",
    "plt.show()\n",
    "\n",
    "# Scatter plot Age vs Smoking\n",
    "plt.figure(figsize=(8, 6))\n",
    "sns.scatterplot(x='Age', y='Smoking', data=pk_irr, hue='Diagnosis', palette=palette)\n",
    "plt.title('Scatter Plot of Age vs Smoking')\n",
    "plt.xlabel('Age')\n",
    "plt.ylabel('Smoking')\n",
    "plt.show()\n",
    "\n",
    "# Scatter plot Diet Quality vs Physical Activity\n",
    "plt.figure(figsize=(8, 6))\n",
    "sns.scatterplot(x='DietQuality', y='PhysicalActivity', data=pk_irr, hue='Diagnosis', palette=palette)\n",
    "plt.title('Scatter Plot of Diet Quality vs Physical Activity')\n",
    "plt.xlabel('Diet Quality')\n",
    "plt.ylabel('Physical Activity')\n",
    "plt.show()\n",
    "\n",
    "# Scatter plot BMI vs Physical Activity\n",
    "plt.figure(figsize=(8, 6))\n",
    "sns.scatterplot(x='BMI', y='PhysicalActivity', data=pk_irr, hue='Diagnosis', palette=palette)\n",
    "plt.title('Scatter Plot of BMI vs Physical Activity')\n",
    "plt.xlabel('BMI')\n",
    "plt.ylabel('Physical Activity')\n",
    "plt.show()\n",
    "\n",
    "# Scatter plot Age vs Hypertension\n",
    "plt.figure(figsize=(8, 6))\n",
    "sns.scatterplot(x='Age', y='Hypertension', data=pk_irr, hue='Diagnosis', palette=palette)\n",
    "plt.title('Scatter Plot of Age vs Hypertension')\n",
    "plt.xlabel('Age')\n",
    "plt.ylabel('Hypertension')\n",
    "plt.show()\n",
    "\n",
    "# Scatter plot BMI vs Systolic BP\n",
    "plt.figure(figsize=(8, 6))\n",
    "sns.scatterplot(x='BMI', y='SystolicBP', data=pk_irr, hue='Diagnosis', palette=palette)\n",
    "plt.title('Scatter Plot of BMI vs Systolic BP')\n",
    "plt.xlabel('BMI')\n",
    "plt.ylabel('Systolic BP')\n",
    "plt.show()\n",
    "\n",
    "# Scatter plot Cholesterol Total vs Cholesterol LDL\n",
    "plt.figure(figsize=(8, 6))\n",
    "sns.scatterplot(x='CholesterolTotal', y='CholesterolLDL', data=pk_irr, hue='Diagnosis', palette=palette)\n",
    "plt.title('Scatter Plot of Cholesterol Total vs Cholesterol LDL')\n",
    "plt.xlabel('Cholesterol Total')\n",
    "plt.ylabel('Cholesterol LDL')\n",
    "plt.show()\n",
    "\n",
    "\n",
    "# Scatter plot Systolic BP vs Diastolic BP\n",
    "plt.figure(figsize=(8, 6))\n",
    "sns.scatterplot(x='SystolicBP', y='DiastolicBP', data=pk_irr, hue='Diagnosis', palette=palette)\n",
    "plt.title('Scatter Plot of Systolic BP vs Diastolic BP')\n",
    "plt.xlabel('Systolic BP')\n",
    "plt.ylabel('Diastolic BP')\n",
    "plt.show()\n"
   ]
  },
  {
   "cell_type": "markdown",
   "id": "1c294c4e-fa1a-4238-87ca-e6513f7b23d1",
   "metadata": {},
   "source": [
    "There was a considerable class imbalance; most of the data points in the dataset were of the positive class (patients with parkinsons). This was corrected by applying SMOTE."
   ]
  },
  {
   "cell_type": "markdown",
   "id": "8748eff3-f597-4c00-b009-95a048c0aff2",
   "metadata": {},
   "source": [
    "**Data Preprocessing Part 2**"
   ]
  },
  {
   "cell_type": "code",
   "execution_count": null,
   "id": "eaf4881e-a2d0-4255-ae49-91936c8222c0",
   "metadata": {},
   "outputs": [],
   "source": [
    "#Scale Data\n",
    "standard_scale = StandardScaler()\n",
    "st_pk_x = standard_scale.fit_transform(pk_x_smote)"
   ]
  },
  {
   "cell_type": "code",
   "execution_count": null,
   "id": "a61584c2-7cf7-431c-a589-30066fea8f4d",
   "metadata": {},
   "outputs": [],
   "source": [
    "#Split Training and Testing Set\n",
    "x_train, x_test, y_train, y_test = train_test_split(st_pk_x, pk_y_smote, train_size=.8, random_state=42)"
   ]
  },
  {
   "cell_type": "markdown",
   "id": "5bc6d19e-a20b-4319-9a6e-e6bb46eb0a65",
   "metadata": {},
   "source": [
    "**Feature Selection**"
   ]
  },
  {
   "cell_type": "code",
   "execution_count": null,
   "id": "4d2b43f6-250c-40b3-963e-846510197264",
   "metadata": {},
   "outputs": [],
   "source": [
    "\n",
    "\n",
    "#Recursive Feature Elimination\n",
    "#Basing RFE on a Logistic Regression Model since it's simple to train\n",
    "elim_model = model = LogisticRegression(max_iter=1200, random_state=42)\n",
    "\n",
    "feature_elim = RFE(estimator=elim_model, n_features_to_select=25)\n",
    "feature_elim.fit(x_train, y_train)\n",
    "\n",
    "#Take best features from this training and use for all future models\n",
    "top_features = feature_elim.support_\n",
    "x_train_s = x_train[:, top_features]\n",
    "x_test_s = x_test[:, top_features]\n",
    "\n",
    "#Retrieve Feature Names For Plotting\n",
    "feature_names = pk_features.columns.tolist()\n",
    "selected_feature_names = [name for name, selected in zip(feature_names, feature_elim.support_) if selected]"
   ]
  },
  {
   "cell_type": "code",
   "execution_count": null,
   "id": "60705270-70e9-4eed-90f0-e9113617bb40",
   "metadata": {},
   "outputs": [],
   "source": [
    "selected_feature_names"
   ]
  },
  {
   "cell_type": "markdown",
   "id": "4af356fd-8af4-45a1-aa41-71d1768742b2",
   "metadata": {},
   "source": [
    "These are the 20 features the above feature elimination process has selected as the most important."
   ]
  },
  {
   "cell_type": "markdown",
   "id": "60780b7f-e94e-4318-822c-2e385cd7a730",
   "metadata": {},
   "source": [
    "**First Model Implementation - Simple Logistic Regression**"
   ]
  },
  {
   "cell_type": "code",
   "execution_count": null,
   "id": "9b130108-747f-4bf1-90a3-ae53b304011f",
   "metadata": {},
   "outputs": [],
   "source": [
    "#Fit Model\n",
    "logreg = LogisticRegression(random_state=42)\n",
    "logreg.fit(x_train_s, y_train)\n",
    "\n",
    "#Fit Model w/o Feature Selection for comparison\n",
    "logreg_b = LogisticRegression(random_state=42)\n",
    "logreg_b.fit(x_train, y_train)"
   ]
  },
  {
   "cell_type": "code",
   "execution_count": null,
   "id": "8b7e0735-3017-403d-828f-901f01484007",
   "metadata": {},
   "outputs": [],
   "source": [
    "#Make Predictions\n",
    "logreg_pred = logreg.predict(x_test_s)\n",
    "logreg_b_pred = logreg_b.predict(x_test)"
   ]
  },
  {
   "cell_type": "markdown",
   "id": "af0236d4-7145-47d0-8447-c752933c6380",
   "metadata": {},
   "source": [
    "**First Model Evaluation - Simple Logistic Regression**"
   ]
  },
  {
   "cell_type": "code",
   "execution_count": null,
   "id": "cf7f019e-e8bf-40c8-963e-4723f57aa89a",
   "metadata": {},
   "outputs": [],
   "source": [
    "#With Feature Selection\n",
    "lr_accuracy = accuracy_score(y_test, logreg_pred)\n",
    "lr_precision = precision_score(y_test, logreg_pred)\n",
    "lr_recall = recall_score(y_test, logreg_pred)\n",
    "lr_f1 = f1_score(y_test, logreg_pred)\n",
    "lr_confusion_matrix = confusion_matrix(y_test, logreg_pred)\n",
    "print(\"With Feature Selection:\")\n",
    "print(\"Accuracy: \" + str(lr_accuracy))\n",
    "print(\"Precision: \" + str(lr_precision))\n",
    "print(\"Recall: \" + str(lr_recall))\n",
    "print(\"f1: \" + str(lr_f1))\n",
    "plt.figure(figsize=(8, 6))\n",
    "sns.heatmap(lr_confusion_matrix, annot=True, fmt='g', cmap='Purples', cbar=False)\n",
    "plt.xlabel('Predicted Values')\n",
    "plt.ylabel('Actual Values')\n",
    "plt.title('Logistic Regression Confusion Matrix')\n",
    "plt.show()\n",
    "\n",
    "#Without Feature Selection\n",
    "lr_b_accuracy = accuracy_score(y_test, logreg_b_pred)\n",
    "lr_b_precision = precision_score(y_test, logreg_b_pred)\n",
    "lr_b_recall = recall_score(y_test, logreg_b_pred)\n",
    "lr_b_f1 = f1_score(y_test, logreg_b_pred)\n",
    "lr_b_confusion_matrix = confusion_matrix(y_test, logreg_b_pred)\n",
    "print(\"\\nWithout Feature Selection:\")\n",
    "print(\"Accuracy: \" + str(lr_b_accuracy))\n",
    "print(\"Precision: \" + str(lr_b_precision))\n",
    "print(\"Recall: \" + str(lr_b_recall))\n",
    "print(\"f1: \" + str(lr_b_f1))\n",
    "plt.figure(figsize=(8, 6))\n",
    "sns.heatmap(lr_b_confusion_matrix, annot=True, fmt='g', cmap='Purples', cbar=False)\n",
    "plt.xlabel('Predicted Values')\n",
    "plt.ylabel('Actual Values')\n",
    "plt.title('Logistic Regression Confusion Matrix (No Feature Selection)')\n",
    "plt.show()"
   ]
  },
  {
   "cell_type": "markdown",
   "id": "8831257b-78e7-4b46-bd20-34a823afb6ad",
   "metadata": {},
   "source": [
    "**First Model Visualization - Model Weights**"
   ]
  },
  {
   "cell_type": "code",
   "execution_count": null,
   "id": "a52d9c2d-cd19-4af2-b200-e0bb39aa1d94",
   "metadata": {},
   "outputs": [],
   "source": [
    "#With Feature Selection\n",
    "logreg_thetas = pd.DataFrame({\"Feature\": selected_feature_names, \"Thetas\": logreg.coef_[0]}).sort_values(by=\"Thetas\", ascending=False)\n",
    "logreg_b_thetas =pd.DataFrame({\"Feature\": feature_names, \"Thetas\": logreg_b.coef_[0]}).sort_values(by=\"Thetas\", ascending=False)\n",
    "\n",
    "logreg_colors = [\"green\" if coef > 0 else \"red\" for coef in logreg_thetas[\"Thetas\"]]\n",
    "plt.figure(figsize=(8, 6))\n",
    "plt.bar(logreg_thetas[\"Feature\"], logreg_thetas[\"Thetas\"], color=logreg_colors)\n",
    "plt.axhline(0, color='black', linestyle='--')\n",
    "plt.title(\"Logistic Regression Feature Importance (Feature Selected)\")\n",
    "plt.xlabel(\"Features\")\n",
    "plt.ylabel(\"Theta Value\")\n",
    "plt.xticks(rotation=45, ha=\"right\")\n",
    "plt.tight_layout()\n",
    "plt.show()\n",
    "\n",
    "logreg_b_colors = [\"green\" if coef > 0 else \"red\" for coef in logreg_b_thetas[\"Thetas\"]]\n",
    "plt.figure(figsize=(8, 6))\n",
    "plt.bar(logreg_b_thetas[\"Feature\"], logreg_b_thetas[\"Thetas\"], color=logreg_b_colors)\n",
    "plt.axhline(0, color='black', linestyle='--')\n",
    "plt.title(\"Logistic Regression Feature Importance (No Feature Selection)\")\n",
    "plt.xlabel(\"Features\")\n",
    "plt.ylabel(\"Theta Value\")\n",
    "plt.xticks(rotation=45, ha=\"right\")\n",
    "plt.tight_layout()\n",
    "plt.show()"
   ]
  },
  {
   "cell_type": "markdown",
   "id": "9f94dcfc-a007-4f05-9ee2-03d71985514e",
   "metadata": {},
   "source": [
    "These visualizations reveal huge influence from symptom features- notably, tremor, rigidity, bradykinesia, and depression. All other features seem to be decently important in determination of diagnosis in our linear models, except for Ethnicity and LDL Cholesterol as shown by the above graph in the model which is *not* feature selected."
   ]
  },
  {
   "cell_type": "markdown",
   "id": "607b23db-e864-48d6-9524-6c57af202c36",
   "metadata": {},
   "source": [
    "**Second Model Implementation - SVM With Gaussian Kernel**"
   ]
  },
  {
   "cell_type": "code",
   "execution_count": null,
   "id": "9aff8f98-fb5f-45f7-b79f-1cf8317d8e4b",
   "metadata": {},
   "outputs": [],
   "source": [
    "#Fit Model with Optimal Parameters Using GridSearchCV\n",
    "svm_params = {'C': [0.1, 1, 10], 'gamma': [0.01, 0.1, 1, 10]}\n",
    "svm = GridSearchCV(estimator=SVC(kernel='rbf', random_state=42), param_grid=svm_params, scoring='accuracy')\n",
    "svm.fit(x_train_s, y_train)\n",
    "\n",
    "#Fit Model w/o Feature Selection for comparison\n",
    "svm_b = GridSearchCV(estimator=SVC(kernel='rbf', random_state=42), param_grid=svm_params, scoring='accuracy')\n",
    "svm_b.fit(x_train, y_train)"
   ]
  },
  {
   "cell_type": "code",
   "execution_count": null,
   "id": "c3a4c19b-2a41-47c3-8782-50e44a3a3b86",
   "metadata": {},
   "outputs": [],
   "source": [
    "#Make Predictions\n",
    "svm_pred = svm.predict(x_test_s)\n",
    "svm_b_pred = svm_b.predict(x_test)"
   ]
  },
  {
   "cell_type": "markdown",
   "id": "ef80351c-8853-4b22-898d-70706d5143f5",
   "metadata": {},
   "source": [
    "**Second Model Evaluation - SVM With Gaussian Kernel**"
   ]
  },
  {
   "cell_type": "code",
   "execution_count": null,
   "id": "f4b32593-f82d-4c3a-b053-5ae9559fb0c7",
   "metadata": {},
   "outputs": [],
   "source": [
    "# With Feature Selection\n",
    "svm_accuracy = accuracy_score(y_test, svm_pred)\n",
    "svm_precision = precision_score(y_test, svm_pred)\n",
    "svm_recall = recall_score(y_test, svm_pred)\n",
    "svm_f1 = f1_score(y_test, svm_pred)\n",
    "svm_confusion_matrix = confusion_matrix(y_test, svm_pred)\n",
    "print(\"With Feature Selection:\")\n",
    "print(\"Accuracy: \" + str(svm_accuracy))\n",
    "print(\"Precision: \" + str(svm_precision))\n",
    "print(\"Recall: \" + str(svm_recall))\n",
    "print(\"F1 Score: \" + str(svm_f1))\n",
    "plt.figure(figsize=(8, 6))\n",
    "sns.heatmap(svm_confusion_matrix, annot=True, fmt='g', cmap='Purples', cbar=False)\n",
    "plt.xlabel('Predicted Values')\n",
    "plt.ylabel('Actual Values')\n",
    "plt.title('Support Vector Machine Confusion Matrix (With Feature Selection)')\n",
    "plt.show()\n",
    "\n",
    "# Without Feature Selection\n",
    "svm_b_accuracy = accuracy_score(y_test, svm_b_pred)\n",
    "svm_b_precision = precision_score(y_test, svm_b_pred)\n",
    "svm_b_recall = recall_score(y_test, svm_b_pred)\n",
    "svm_b_f1 = f1_score(y_test, svm_b_pred)\n",
    "svm_b_confusion_matrix = confusion_matrix(y_test, svm_b_pred) \n",
    "print(\"\\nWithout Feature Selection:\")\n",
    "print(\"Accuracy: \" + str(svm_b_accuracy))\n",
    "print(\"Precision: \" + str(svm_b_precision))\n",
    "print(\"Recall: \" + str(svm_b_recall))\n",
    "print(\"F1 Score: \" + str(svm_b_f1))\n",
    "plt.figure(figsize=(8, 6))\n",
    "sns.heatmap(svm_b_confusion_matrix, annot=True, fmt='g', cmap='Purples', cbar=False)\n",
    "plt.xlabel('Predicted Values')\n",
    "plt.ylabel('Actual Values')\n",
    "plt.title('Support Vector Machine Confusion Matrix (Without Feature Selection)')\n",
    "plt.show()"
   ]
  },
  {
   "cell_type": "markdown",
   "id": "86d4c82e-af4f-46b5-b93b-eaaa38251923",
   "metadata": {},
   "source": [
    "It appears that this model does not benefit from the feature selection technique that was utilized in logistic regression; in fact, removing features seems to make the model worse. Since Gaussian Kernel SVMs leverage dimensionality, this makes sense from a theoretical standpoint."
   ]
  },
  {
   "cell_type": "markdown",
   "id": "81d0a550-82dc-450f-bcf2-bf49fc0fca98",
   "metadata": {},
   "source": [
    "**Second Model Visualization - TO DO**"
   ]
  },
  {
   "cell_type": "markdown",
   "id": "1e457372-b22f-4225-83a3-2c3c7a73ae53",
   "metadata": {},
   "source": [
    "Insert something here"
   ]
  },
  {
   "cell_type": "markdown",
   "id": "4ca07d4a-69a2-42f5-9794-f5e5dd04643a",
   "metadata": {},
   "source": [
    "**Third Model Implementation - Decision Tree**"
   ]
  },
  {
   "cell_type": "code",
   "execution_count": null,
   "id": "d7a8a787-e34e-4591-b949-a44a8aa76db7",
   "metadata": {},
   "outputs": [],
   "source": []
  }
 ],
 "metadata": {
  "kernelspec": {
   "display_name": "Python 3 (ipykernel)",
   "language": "python",
   "name": "python3"
  },
  "language_info": {
   "codemirror_mode": {
    "name": "ipython",
    "version": 3
   },
   "file_extension": ".py",
   "mimetype": "text/x-python",
   "name": "python",
   "nbconvert_exporter": "python",
   "pygments_lexer": "ipython3",
   "version": "3.12.4"
  }
 },
 "nbformat": 4,
 "nbformat_minor": 5
}
