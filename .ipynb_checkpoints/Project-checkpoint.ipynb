{
 "cells": [
  {
   "cell_type": "code",
   "execution_count": 8,
   "id": "b4477eea-4b35-452d-9326-8c3e0429f57e",
   "metadata": {},
   "outputs": [],
   "source": [
    "#Import\n",
    "import pandas as pd\n",
    "import numpy as np"
   ]
  },
  {
   "cell_type": "markdown",
   "id": "46ee3665-47d7-450f-b35d-94053ac87310",
   "metadata": {},
   "source": [
    "**Data Preprocessing**"
   ]
  },
  {
   "cell_type": "code",
   "execution_count": 14,
   "id": "332b7042-7828-48b1-8525-e1748f16f975",
   "metadata": {},
   "outputs": [
    {
     "data": {
      "text/html": [
       "<div>\n",
       "<style scoped>\n",
       "    .dataframe tbody tr th:only-of-type {\n",
       "        vertical-align: middle;\n",
       "    }\n",
       "\n",
       "    .dataframe tbody tr th {\n",
       "        vertical-align: top;\n",
       "    }\n",
       "\n",
       "    .dataframe thead th {\n",
       "        text-align: right;\n",
       "    }\n",
       "</style>\n",
       "<table border=\"1\" class=\"dataframe\">\n",
       "  <thead>\n",
       "    <tr style=\"text-align: right;\">\n",
       "      <th></th>\n",
       "      <th>id</th>\n",
       "      <th>full_name</th>\n",
       "      <th>age</th>\n",
       "      <th>gender</th>\n",
       "      <th>device_type</th>\n",
       "      <th>ad_position</th>\n",
       "      <th>browsing_history</th>\n",
       "      <th>time_of_day</th>\n",
       "      <th>click</th>\n",
       "    </tr>\n",
       "  </thead>\n",
       "  <tbody>\n",
       "    <tr>\n",
       "      <th>0</th>\n",
       "      <td>670</td>\n",
       "      <td>User670</td>\n",
       "      <td>22.0</td>\n",
       "      <td>NaN</td>\n",
       "      <td>Desktop</td>\n",
       "      <td>Top</td>\n",
       "      <td>Shopping</td>\n",
       "      <td>Afternoon</td>\n",
       "      <td>1</td>\n",
       "    </tr>\n",
       "    <tr>\n",
       "      <th>1</th>\n",
       "      <td>3044</td>\n",
       "      <td>User3044</td>\n",
       "      <td>NaN</td>\n",
       "      <td>Male</td>\n",
       "      <td>Desktop</td>\n",
       "      <td>Top</td>\n",
       "      <td>NaN</td>\n",
       "      <td>NaN</td>\n",
       "      <td>1</td>\n",
       "    </tr>\n",
       "    <tr>\n",
       "      <th>2</th>\n",
       "      <td>5912</td>\n",
       "      <td>User5912</td>\n",
       "      <td>41.0</td>\n",
       "      <td>Non-Binary</td>\n",
       "      <td>NaN</td>\n",
       "      <td>Side</td>\n",
       "      <td>Education</td>\n",
       "      <td>Night</td>\n",
       "      <td>1</td>\n",
       "    </tr>\n",
       "    <tr>\n",
       "      <th>3</th>\n",
       "      <td>5418</td>\n",
       "      <td>User5418</td>\n",
       "      <td>34.0</td>\n",
       "      <td>Male</td>\n",
       "      <td>NaN</td>\n",
       "      <td>NaN</td>\n",
       "      <td>Entertainment</td>\n",
       "      <td>Evening</td>\n",
       "      <td>1</td>\n",
       "    </tr>\n",
       "    <tr>\n",
       "      <th>4</th>\n",
       "      <td>9452</td>\n",
       "      <td>User9452</td>\n",
       "      <td>39.0</td>\n",
       "      <td>Non-Binary</td>\n",
       "      <td>NaN</td>\n",
       "      <td>NaN</td>\n",
       "      <td>Social Media</td>\n",
       "      <td>Morning</td>\n",
       "      <td>0</td>\n",
       "    </tr>\n",
       "  </tbody>\n",
       "</table>\n",
       "</div>"
      ],
      "text/plain": [
       "     id full_name   age      gender device_type ad_position browsing_history  \\\n",
       "0   670   User670  22.0         NaN     Desktop         Top         Shopping   \n",
       "1  3044  User3044   NaN        Male     Desktop         Top              NaN   \n",
       "2  5912  User5912  41.0  Non-Binary         NaN        Side        Education   \n",
       "3  5418  User5418  34.0        Male         NaN         NaN    Entertainment   \n",
       "4  9452  User9452  39.0  Non-Binary         NaN         NaN     Social Media   \n",
       "\n",
       "  time_of_day  click  \n",
       "0   Afternoon      1  \n",
       "1         NaN      1  \n",
       "2       Night      1  \n",
       "3     Evening      1  \n",
       "4     Morning      0  "
      ]
     },
     "execution_count": 14,
     "metadata": {},
     "output_type": "execute_result"
    }
   ],
   "source": [
    "#Open Dataset\n",
    "ad_data = pd.read_csv('ad_click_dataset.csv')\n",
    "ad_data.head()"
   ]
  },
  {
   "cell_type": "code",
   "execution_count": null,
   "id": "9b618279-8676-4e45-91ff-10ad18cbd076",
   "metadata": {},
   "outputs": [],
   "source": []
  }
 ],
 "metadata": {
  "kernelspec": {
   "display_name": "Python 3 (ipykernel)",
   "language": "python",
   "name": "python3"
  },
  "language_info": {
   "codemirror_mode": {
    "name": "ipython",
    "version": 3
   },
   "file_extension": ".py",
   "mimetype": "text/x-python",
   "name": "python",
   "nbconvert_exporter": "python",
   "pygments_lexer": "ipython3",
   "version": "3.12.4"
  }
 },
 "nbformat": 4,
 "nbformat_minor": 5
}
