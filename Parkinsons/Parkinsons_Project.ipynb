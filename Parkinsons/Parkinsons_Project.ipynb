{
 "cells": [
  {
   "cell_type": "code",
   "execution_count": 73,
   "id": "2ec2a8e4-e6a7-4ab2-a3e7-b00c822d291c",
   "metadata": {},
   "outputs": [],
   "source": [
    "#Import\n",
    "import pandas as pd\n",
    "import numpy as np\n",
    "import matplotlib.pyplot as plt\n",
    "import seaborn as sns\n",
    "from imblearn.over_sampling import SMOTE\n",
    "from sklearn.model_selection import train_test_split\n",
    "from sklearn.preprocessing import StandardScaler\n",
    "from sklearn.linear_model import LogisticRegression"
   ]
  },
  {
   "cell_type": "markdown",
   "id": "a866e214-882d-477e-b2e3-e4fb9119074d",
   "metadata": {},
   "source": [
    "**Data Preprocessing Part 1**"
   ]
  },
  {
   "cell_type": "code",
   "execution_count": 4,
   "id": "d9ce9f84-ff93-4c3b-9ff0-eb6bca144bd4",
   "metadata": {},
   "outputs": [
    {
     "data": {
      "text/html": [
       "<div>\n",
       "<style scoped>\n",
       "    .dataframe tbody tr th:only-of-type {\n",
       "        vertical-align: middle;\n",
       "    }\n",
       "\n",
       "    .dataframe tbody tr th {\n",
       "        vertical-align: top;\n",
       "    }\n",
       "\n",
       "    .dataframe thead th {\n",
       "        text-align: right;\n",
       "    }\n",
       "</style>\n",
       "<table border=\"1\" class=\"dataframe\">\n",
       "  <thead>\n",
       "    <tr style=\"text-align: right;\">\n",
       "      <th></th>\n",
       "      <th>PatientID</th>\n",
       "      <th>Age</th>\n",
       "      <th>Gender</th>\n",
       "      <th>Ethnicity</th>\n",
       "      <th>EducationLevel</th>\n",
       "      <th>BMI</th>\n",
       "      <th>Smoking</th>\n",
       "      <th>AlcoholConsumption</th>\n",
       "      <th>PhysicalActivity</th>\n",
       "      <th>DietQuality</th>\n",
       "      <th>...</th>\n",
       "      <th>FunctionalAssessment</th>\n",
       "      <th>Tremor</th>\n",
       "      <th>Rigidity</th>\n",
       "      <th>Bradykinesia</th>\n",
       "      <th>PosturalInstability</th>\n",
       "      <th>SpeechProblems</th>\n",
       "      <th>SleepDisorders</th>\n",
       "      <th>Constipation</th>\n",
       "      <th>Diagnosis</th>\n",
       "      <th>DoctorInCharge</th>\n",
       "    </tr>\n",
       "  </thead>\n",
       "  <tbody>\n",
       "    <tr>\n",
       "      <th>0</th>\n",
       "      <td>3058</td>\n",
       "      <td>85</td>\n",
       "      <td>0</td>\n",
       "      <td>3</td>\n",
       "      <td>1</td>\n",
       "      <td>19.619878</td>\n",
       "      <td>0</td>\n",
       "      <td>5.108241</td>\n",
       "      <td>1.380660</td>\n",
       "      <td>3.893969</td>\n",
       "      <td>...</td>\n",
       "      <td>1.572427</td>\n",
       "      <td>1</td>\n",
       "      <td>0</td>\n",
       "      <td>0</td>\n",
       "      <td>0</td>\n",
       "      <td>0</td>\n",
       "      <td>0</td>\n",
       "      <td>0</td>\n",
       "      <td>0</td>\n",
       "      <td>DrXXXConfid</td>\n",
       "    </tr>\n",
       "    <tr>\n",
       "      <th>1</th>\n",
       "      <td>3059</td>\n",
       "      <td>75</td>\n",
       "      <td>0</td>\n",
       "      <td>0</td>\n",
       "      <td>2</td>\n",
       "      <td>16.247339</td>\n",
       "      <td>1</td>\n",
       "      <td>6.027648</td>\n",
       "      <td>8.409804</td>\n",
       "      <td>8.513428</td>\n",
       "      <td>...</td>\n",
       "      <td>4.787551</td>\n",
       "      <td>0</td>\n",
       "      <td>1</td>\n",
       "      <td>0</td>\n",
       "      <td>1</td>\n",
       "      <td>0</td>\n",
       "      <td>1</td>\n",
       "      <td>0</td>\n",
       "      <td>1</td>\n",
       "      <td>DrXXXConfid</td>\n",
       "    </tr>\n",
       "    <tr>\n",
       "      <th>2</th>\n",
       "      <td>3060</td>\n",
       "      <td>70</td>\n",
       "      <td>1</td>\n",
       "      <td>0</td>\n",
       "      <td>0</td>\n",
       "      <td>15.368239</td>\n",
       "      <td>0</td>\n",
       "      <td>2.242135</td>\n",
       "      <td>0.213275</td>\n",
       "      <td>6.498805</td>\n",
       "      <td>...</td>\n",
       "      <td>2.130686</td>\n",
       "      <td>1</td>\n",
       "      <td>0</td>\n",
       "      <td>0</td>\n",
       "      <td>0</td>\n",
       "      <td>1</td>\n",
       "      <td>0</td>\n",
       "      <td>1</td>\n",
       "      <td>1</td>\n",
       "      <td>DrXXXConfid</td>\n",
       "    </tr>\n",
       "    <tr>\n",
       "      <th>3</th>\n",
       "      <td>3061</td>\n",
       "      <td>52</td>\n",
       "      <td>0</td>\n",
       "      <td>0</td>\n",
       "      <td>0</td>\n",
       "      <td>15.454557</td>\n",
       "      <td>0</td>\n",
       "      <td>5.997788</td>\n",
       "      <td>1.375045</td>\n",
       "      <td>6.715033</td>\n",
       "      <td>...</td>\n",
       "      <td>3.391288</td>\n",
       "      <td>1</td>\n",
       "      <td>1</td>\n",
       "      <td>1</td>\n",
       "      <td>0</td>\n",
       "      <td>0</td>\n",
       "      <td>0</td>\n",
       "      <td>1</td>\n",
       "      <td>1</td>\n",
       "      <td>DrXXXConfid</td>\n",
       "    </tr>\n",
       "    <tr>\n",
       "      <th>4</th>\n",
       "      <td>3062</td>\n",
       "      <td>87</td>\n",
       "      <td>0</td>\n",
       "      <td>0</td>\n",
       "      <td>1</td>\n",
       "      <td>18.616042</td>\n",
       "      <td>0</td>\n",
       "      <td>9.775243</td>\n",
       "      <td>1.188607</td>\n",
       "      <td>4.657572</td>\n",
       "      <td>...</td>\n",
       "      <td>3.200969</td>\n",
       "      <td>0</td>\n",
       "      <td>0</td>\n",
       "      <td>0</td>\n",
       "      <td>1</td>\n",
       "      <td>0</td>\n",
       "      <td>1</td>\n",
       "      <td>0</td>\n",
       "      <td>0</td>\n",
       "      <td>DrXXXConfid</td>\n",
       "    </tr>\n",
       "  </tbody>\n",
       "</table>\n",
       "<p>5 rows × 35 columns</p>\n",
       "</div>"
      ],
      "text/plain": [
       "   PatientID  Age  Gender  Ethnicity  EducationLevel        BMI  Smoking  \\\n",
       "0       3058   85       0          3               1  19.619878        0   \n",
       "1       3059   75       0          0               2  16.247339        1   \n",
       "2       3060   70       1          0               0  15.368239        0   \n",
       "3       3061   52       0          0               0  15.454557        0   \n",
       "4       3062   87       0          0               1  18.616042        0   \n",
       "\n",
       "   AlcoholConsumption  PhysicalActivity  DietQuality  ...  \\\n",
       "0            5.108241          1.380660     3.893969  ...   \n",
       "1            6.027648          8.409804     8.513428  ...   \n",
       "2            2.242135          0.213275     6.498805  ...   \n",
       "3            5.997788          1.375045     6.715033  ...   \n",
       "4            9.775243          1.188607     4.657572  ...   \n",
       "\n",
       "   FunctionalAssessment  Tremor  Rigidity  Bradykinesia  PosturalInstability  \\\n",
       "0              1.572427       1         0             0                    0   \n",
       "1              4.787551       0         1             0                    1   \n",
       "2              2.130686       1         0             0                    0   \n",
       "3              3.391288       1         1             1                    0   \n",
       "4              3.200969       0         0             0                    1   \n",
       "\n",
       "   SpeechProblems  SleepDisorders  Constipation  Diagnosis  DoctorInCharge  \n",
       "0               0               0             0          0     DrXXXConfid  \n",
       "1               0               1             0          1     DrXXXConfid  \n",
       "2               1               0             1          1     DrXXXConfid  \n",
       "3               0               0             1          1     DrXXXConfid  \n",
       "4               0               1             0          0     DrXXXConfid  \n",
       "\n",
       "[5 rows x 35 columns]"
      ]
     },
     "execution_count": 4,
     "metadata": {},
     "output_type": "execute_result"
    }
   ],
   "source": [
    "#Open Dataset\n",
    "parkinsons_data = pd.read_csv('parkinsons_disease_data.csv')\n",
    "parkinsons_data.head()"
   ]
  },
  {
   "cell_type": "code",
   "execution_count": 21,
   "id": "0271e48e-e966-4cb9-bf96-532c8fdeae66",
   "metadata": {},
   "outputs": [],
   "source": [
    "#Drop Irrelevant Features\n",
    "pk_irr = parkinsons_data.drop('PatientID',axis=1)\n",
    "pk_features = parkinsons_data.drop('DoctorInCharge',axis=1)"
   ]
  },
  {
   "cell_type": "code",
   "execution_count": 48,
   "id": "f3d161e0-8a97-42a5-8b14-3231ebc198bc",
   "metadata": {},
   "outputs": [],
   "source": [
    "#Decouple Features and Target\n",
    "pk_features = pk_irr.drop('Diagnosis',axis=1)\n",
    "pk_target = pk_irr['Diagnosis']"
   ]
  },
  {
   "cell_type": "code",
   "execution_count": null,
   "id": "ab5440a9-39dc-42f2-855c-e9c4f32644bf",
   "metadata": {},
   "outputs": [],
   "source": [
    "#Apply SMOTE for class imbalance correction\n",
    "smote = SMOTE()\n",
    "pk_x_smote, pk_y_smote = smote.fit_resample(pk_features, pk_target)"
   ]
  },
  {
   "cell_type": "markdown",
   "id": "60b399f6-01d9-4c1e-8bcd-939795b1ee3e",
   "metadata": {},
   "source": [
    "**Data Visualization**"
   ]
  },
  {
   "cell_type": "code",
   "execution_count": 50,
   "id": "0023b6d2-5cd0-4961-bb71-47cae1ed958a",
   "metadata": {},
   "outputs": [
    {
     "data": {
      "text/plain": [
       "<matplotlib.image.AxesImage at 0x1bfd4778b30>"
      ]
     },
     "execution_count": 50,
     "metadata": {},
     "output_type": "execute_result"
    },
    {
     "data": {
      "image/png": "[encoded data removed]",
      "text/plain": [
       "<Figure size 480x480 with 1 Axes>"
      ]
     },
     "metadata": {},
     "output_type": "display_data"
    },
    {
     "data": {
      "image/png": "[encoded data removed]",
      "text/plain": [
       "<Figure size 480x480 with 1 Axes>"
      ]
     },
     "metadata": {},
     "output_type": "display_data"
    }
   ],
   "source": [
    "#Visualize Correlation\n",
    "data_correlation = pk_features.corr()\n",
    "data_high_correlation = data_correlation[abs(data_correlation) >= 0.5]\n",
    "plt.matshow(data_correlation)\n",
    "plt.matshow(data_high_correlation)"
   ]
  },
  {
   "cell_type": "markdown",
   "id": "7444596f-ad11-4a7f-a195-b45c76c16ab4",
   "metadata": {},
   "source": [
    "The above heatmap shows that none of the features in this dataset have a correlation above the cutoff we chose, which was 0.5. Therefore, there was no need to remove any features on account of correlation."
   ]
  },
  {
   "cell_type": "code",
   "execution_count": 61,
   "id": "2e291b4c-e119-4566-a83a-274f31e8abbd",
   "metadata": {},
   "outputs": [
    {
     "name": "stdout",
     "output_type": "stream",
     "text": [
      "Diagnosis\n",
      "1    1304\n",
      "0     801\n",
      "Name: count, dtype: int64\n"
     ]
    },
    {
     "data": {
      "image/png": "[encoded data removed]",
      "text/plain": [
       "<Figure size 600x600 with 1 Axes>"
      ]
     },
     "metadata": {},
     "output_type": "display_data"
    }
   ],
   "source": [
    "#Visualize Original Class Imbalance\n",
    "print(pk_irr['Diagnosis'].value_counts())\n",
    "plt.figure(figsize=(6, 6))\n",
    "sns.countplot(x='Diagnosis', data=pk_irr, hue='Diagnosis')\n",
    "plt.show()"
   ]
  },
  {
   "cell_type": "markdown",
   "id": "1c294c4e-fa1a-4238-87ca-e6513f7b23d1",
   "metadata": {},
   "source": [
    "There was a considerable class imbalance; most of the data points in the dataset were of the positive class (patients with parkinsons). This was corrected by applying SMOTE."
   ]
  },
  {
   "cell_type": "markdown",
   "id": "8748eff3-f597-4c00-b009-95a048c0aff2",
   "metadata": {},
   "source": [
    "**Data Preprocessing Part 2**"
   ]
  },
  {
   "cell_type": "code",
   "execution_count": 77,
   "id": "eaf4881e-a2d0-4255-ae49-91936c8222c0",
   "metadata": {},
   "outputs": [],
   "source": []
  },
  {
   "cell_type": "code",
   "execution_count": null,
   "id": "0d4bc0ac-c9dc-49f0-9a51-5a97164fc525",
   "metadata": {},
   "outputs": [],
   "source": []
  }
 ],
 "metadata": {
  "kernelspec": {
   "display_name": "Python 3 (ipykernel)",
   "language": "python",
   "name": "python3"
  },
  "language_info": {
   "codemirror_mode": {
    "name": "ipython",
    "version": 3
   },
   "file_extension": ".py",
   "mimetype": "text/x-python",
   "name": "python",
   "nbconvert_exporter": "python",
   "pygments_lexer": "ipython3",
   "version": "3.12.4"
  }
 },
 "nbformat": 4,
 "nbformat_minor": 5
}
